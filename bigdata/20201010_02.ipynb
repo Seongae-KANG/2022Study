{
 "cells": [
  {
   "cell_type": "markdown",
   "metadata": {},
   "source": [
    "# 빅데이터 처리 기술\n"
   ]
  },
  {
   "cell_type": "markdown",
   "metadata": {},
   "source": [
    "## 1. 분산 컴퓨팅"
   ]
  },
  {
   "cell_type": "markdown",
   "metadata": {},
   "source": [
    "### 1-1. 분산 컴퓨팅 기술의 정의\n",
    "- 네트워크로 연결된 다수의 컴퓨팅 자원으로, 저장이나 연산 등의 작업을 나누어서 처리하는 기술\n",
    "- 일반적으로 마스터와 워커로 구성됨\n",
    "- 마스터는 워커를 조율하는 역할, 워커는 실제 작업을 처리함\n",
    "\n",
    "### 1-2. 분산 컴퓨팅 기술의 특징\n",
    "1) 네트워크로 연결된 컴퓨팅 자원을 노드라고 표현<br>\n",
    "2) 전체 작업을 나누어 각 노드에 분산하여 일을 처리<br>\n",
    "3) 각 노드들을 네트워크를 이용해 메시지를 주고 받음으로써, 전체적인 작업 수행<br>\n",
    "4) 전체 작업을 통합적으로 제어하는 마스터 노드가 일을 쪼깨어 워커 노드에 분배<br>\n",
    "5) 워커 노드에 분배된 일을 다시 마스터 노드로 취합하여 전체적인 작업 완성<br>\n",
    "\n",
    "### 1-3. 분산 컴퓨팅 기술의 효용성\n",
    "1) 처리 속도 향상 : 전체적인 작업을 쪼개어 여러 노드들이 함께 작업함으로써 대규모의 데이터들을 동시 처리 가능, 부하를 균등하게 배분함으로써 시스템 처리 효율 향상<br>\n",
    "2) 자원 공유 : 분산 시스템의 유휴 자원을 지속적으로 활용하여 동일 시스템 내 다른 애플리케이션도 수행 가능 (ex. 멀티태넌시)<br>\n",
    "3) 시스템 고가용성 보장 : 작업 중 어느 특정 노드가 결함 및 장애를 일으켜도, \n",
    "어쩌고 저쪼꼬~"
   ]
  },
  {
   "cell_type": "code",
   "execution_count": 4,
   "metadata": {},
   "outputs": [
    {
     "name": "stdout",
     "output_type": "stream",
     "text": [
      "hihi\n"
     ]
    }
   ],
   "source": [
    "print(\"hihi\")"
   ]
  },
  {
   "cell_type": "code",
   "execution_count": null,
   "metadata": {},
   "outputs": [],
   "source": []
  }
 ],
 "metadata": {
  "kernelspec": {
   "display_name": "Python 3",
   "language": "python",
   "name": "python3"
  },
  "language_info": {
   "codemirror_mode": {
    "name": "ipython",
    "version": 3
   },
   "file_extension": ".py",
   "mimetype": "text/x-python",
   "name": "python",
   "nbconvert_exporter": "python",
   "pygments_lexer": "ipython3",
   "version": "3.8.5"
  }
 },
 "nbformat": 4,
 "nbformat_minor": 4
}
